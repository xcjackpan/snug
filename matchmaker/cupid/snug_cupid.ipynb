{
 "cells": [
  {
   "cell_type": "code",
   "execution_count": 13,
   "metadata": {},
   "outputs": [],
   "source": [
    "import tensorflow as tf\n",
    "import numpy as np\n",
    "import keras.backend as K\n",
    "from keras.layers import Input, Dense, LeakyReLU\n",
    "from keras.models import Model\n",
    "from random import shuffle\n",
    "import matplotlib.pyplot as plt\n",
    "\n",
    "float_formatter = lambda x: \"%.2f\" % x\n",
    "np.set_printoptions(formatter={'float_kind':float_formatter})"
   ]
  },
  {
   "cell_type": "code",
   "execution_count": 14,
   "metadata": {},
   "outputs": [],
   "source": [
    "def gen_data_raw(user_info,pref_map, num_layouts, size=1000, var=10):\n",
    "    average = 1\n",
    "    high = 10\n",
    "    data_x = []\n",
    "    data_y = []\n",
    "    for _ in range(size):\n",
    "        for field, val, layout in pref_map:\n",
    "            x = list(user_info.values())+[np.random.randint(num_layouts)]\n",
    "            data_x.append(x)\n",
    "            data_y += [average]\n",
    "            \n",
    "    for _ in range(size):\n",
    "        for field, val, layout in pref_map:\n",
    "            u = user_info.copy()\n",
    "            u[field] = val \n",
    "            if not isinstance(val, str):\n",
    "                u[field] += np.random.rand()*var - var/2\n",
    "            x = list(u.values())+[layout]\n",
    "            data_x.append(x)\n",
    "            data_y += [high]\n",
    "    \n",
    "    zipped = list(zip(data_x,data_y))\n",
    "    shuffle(zipped)\n",
    "    data_x, data_y = zip(*zipped)\n",
    "    \n",
    "    return (data_x, data_y)\n",
    "\n",
    "def is_int(s):\n",
    "    try: \n",
    "        int(s)\n",
    "        return True\n",
    "    except ValueError:\n",
    "        return False\n",
    "\n",
    "def data_clean(x):\n",
    "    for a in range(len(x)):\n",
    "        for b in range(len(x[a])):\n",
    "            e = x[a][b]\n",
    "            if isinstance(e, int):\n",
    "                x[a][b] = float(e)\n",
    "            elif isinstance(e, str):\n",
    "                if e == '':\n",
    "                    x[a][b]=0\n",
    "                elif is_int(e[0]):\n",
    "                    # date\n",
    "                    x[a][b]=0\n",
    "                else:\n",
    "                    # browser categorical\n",
    "                    if e == \"Chrome\":\n",
    "                        x[a][b] = 0\n",
    "                    else:\n",
    "                        x[a][b] = 1\n",
    "                    \n",
    "            elif e == None:\n",
    "                x[a][b] = 0\n",
    "    return x\n",
    "\n",
    "def data_normalize(x):\n",
    "    average = np.sum(x,axis=0)/x.shape[0]\n",
    "    for a in range(len(x)):\n",
    "        for b in range(len(x[a])):\n",
    "            x[a][b] = x[a][b]/(average[b]+0.0001) - 0.5\n",
    "            \n",
    "    return x\n",
    "\n",
    "def gen_data(user_info,pref_map, num_layouts, size=1000, var=10):\n",
    "    data_x, data_y = gen_data_raw(user_info,pref_map, num_layouts, size, var)\n",
    "\n",
    "    data_x = data_clean(data_x)\n",
    "    \n",
    "    data_x = np.array(data_x)\n",
    "    data_y = np.array(data_y)\n",
    "    \n",
    "    data_x = data_normalize(data_x)\n",
    "    \n",
    "    return (data_x, data_y)"
   ]
  },
  {
   "cell_type": "code",
   "execution_count": 15,
   "metadata": {},
   "outputs": [],
   "source": [
    "user_info = {'timeOpened': '2019-03-31T18:37:50.965Z', 'timezone': 4, 'longitude': -80.5327216, 'latitude': 43.4653171, 'heading': None, 'speed': None, 'altitude': None, 'altitudeAccuracy': None, 'timestamp': '2019-03-31T18:37:50.968Z', 'browserName': 'Mozilla', 'referrer': '', 'sizeScreenW': 1920, 'sizeScreenH': 1080, 'browserWidth': 968, 'browserHeight': 918}\n",
    "# user_info = {'timezone': 4, 'browserName': 'Mozilla'}\n",
    "\n",
    "pref_map = [('browserName','Chrome',0), ('timezone',3,1)]\n",
    "\n",
    "data_x, data_y = gen_data(user_info, pref_map, 3, 100,0)\n",
    "val_x, val_y = gen_data(user_info, pref_map, 3, 10,0)\n",
    "# for i in range(val_y.shape[0]):\n",
    "#     print(val_x[i],val_y[i])\n"
   ]
  },
  {
   "cell_type": "code",
   "execution_count": 16,
   "metadata": {},
   "outputs": [],
   "source": [
    "def gen_duration_model(input_size):\n",
    "    inputs = Input(shape=(input_size,))\n",
    "    \n",
    "    d = Dense(64, kernel_initializer='normal', activation='tanh')(inputs)\n",
    "#     d = Dense(64, kernel_initializer='normal', activation='tanh')(d)\n",
    "#     d = Dense(16, kernel_initializer='normal', activation='tanh')(d)\n",
    "    d = Dense(1)(d)\n",
    "    predicted_stay = LeakyReLU(alpha=0.3)(d)\n",
    "    model = Model(inputs=inputs, outputs=predicted_stay)\n",
    "    return model"
   ]
  },
  {
   "cell_type": "code",
   "execution_count": 17,
   "metadata": {},
   "outputs": [
    {
     "name": "stdout",
     "output_type": "stream",
     "text": [
      "Train on 268 samples, validate on 132 samples\n",
      "Epoch 1/5\n",
      "268/268 [==============================] - 0s 540us/step - loss: 19.1123 - val_loss: 0.3078\n",
      "Epoch 2/5\n",
      "268/268 [==============================] - 0s 39us/step - loss: 0.0911 - val_loss: 0.0187\n",
      "Epoch 3/5\n",
      "268/268 [==============================] - 0s 57us/step - loss: 0.0131 - val_loss: 0.0079\n",
      "Epoch 4/5\n",
      "268/268 [==============================] - 0s 34us/step - loss: 0.0058 - val_loss: 0.0038\n",
      "Epoch 5/5\n",
      "268/268 [==============================] - 0s 41us/step - loss: 0.0032 - val_loss: 0.0025\n",
      "40/40 [==============================] - 0s 40us/step\n"
     ]
    },
    {
     "data": {
      "text/plain": [
       "0.002430315176025033"
      ]
     },
     "execution_count": 17,
     "metadata": {},
     "output_type": "execute_result"
    }
   ],
   "source": [
    "model = gen_duration_model(data_x.shape[1])\n",
    "model.compile(optimizer='sgd',\n",
    "              loss='mean_squared_error')\n",
    "history = model.fit(data_x, data_y, validation_split=0.33, epochs=5)\n",
    "model.evaluate(val_x, val_y)"
   ]
  },
  {
   "cell_type": "code",
   "execution_count": 18,
   "metadata": {},
   "outputs": [
    {
     "data": {
      "image/png": "[encoded data removed]",
      "text/plain": [
       "<Figure size 432x288 with 1 Axes>"
      ]
     },
     "metadata": {
      "needs_background": "light"
     },
     "output_type": "display_data"
    }
   ],
   "source": [
    "plt.plot(history.history['loss'])\n",
    "plt.plot(history.history['val_loss'])\n",
    "plt.title('model loss')\n",
    "plt.ylabel('loss')\n",
    "plt.xlabel('epoch')\n",
    "plt.legend(['train', 'test'], loc='upper left')\n",
    "plt.show()"
   ]
  },
  {
   "cell_type": "code",
   "execution_count": 19,
   "metadata": {},
   "outputs": [
    {
     "name": "stdout",
     "output_type": "stream",
     "text": [
      "[[1.01]] 1\n",
      "[[10.08]] 10\n",
      "[[9.95]] 10\n",
      "[[1.00]] 1\n",
      "[[0.98]] 1\n"
     ]
    }
   ],
   "source": [
    "for i in range(2,7):\n",
    "    print(model.predict(np.array([val_x[i]])), val_y[i])"
   ]
  },
  {
   "cell_type": "code",
   "execution_count": 8,
   "metadata": {},
   "outputs": [
    {
     "data": {
      "text/plain": [
       "array([-0.00, 0.00, 1.00, 0.00, -0.00, -0.00, -0.00, 1.00, -0.00, -0.00,\n",
       "       1.00, 1.00, 1.00, 0.00, -0.00, 1.00])"
      ]
     },
     "execution_count": 8,
     "metadata": {},
     "output_type": "execute_result"
    }
   ],
   "source": [
    "np.round(val_x[0])"
   ]
  },
  {
   "cell_type": "code",
   "execution_count": 405,
   "metadata": {},
   "outputs": [
    {
     "data": {
      "text/plain": [
       "array([-0.00, 0.00, -0.00, -0.00, 0.00, -0.00, 0.00, -0.00, -0.00, 1.00,\n",
       "       0.00, 0.00, -0.00, 0.00, -0.00, 1.00])"
      ]
     },
     "execution_count": 405,
     "metadata": {},
     "output_type": "execute_result"
    }
   ],
   "source": [
    "np.round(val_x[2])"
   ]
  },
  {
   "cell_type": "code",
   "execution_count": 12,
   "metadata": {},
   "outputs": [
    {
     "name": "stdout",
     "output_type": "stream",
     "text": [
      "40/40 [==============================] - 0s 103us/step\n"
     ]
    },
    {
     "data": {
      "text/plain": [
       "0.0010196470888331533"
      ]
     },
     "execution_count": 12,
     "metadata": {},
     "output_type": "execute_result"
    }
   ],
   "source": [
    "model.evaluate(val_x, val_y)"
   ]
  },
  {
   "cell_type": "code",
   "execution_count": null,
   "metadata": {},
   "outputs": [],
   "source": []
  }
 ],
 "metadata": {
  "kernelspec": {
   "display_name": "Python (tf)",
   "language": "python",
   "name": "tf"
  },
  "language_info": {
   "codemirror_mode": {
    "name": "ipython",
    "version": 3
   },
   "file_extension": ".py",
   "mimetype": "text/x-python",
   "name": "python",
   "nbconvert_exporter": "python",
   "pygments_lexer": "ipython3",
   "version": "3.5.6"
  }
 },
 "nbformat": 4,
 "nbformat_minor": 2
}
